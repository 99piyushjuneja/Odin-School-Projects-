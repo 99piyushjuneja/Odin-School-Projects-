{
  "cells": [
    {
      "cell_type": "markdown",
      "source": [
        "# Introduction of the Project :\n",
        "This is an olympics data of various different years representing the athlete informations and medals won\n",
        "\n",
        "## Data Description \n",
        "8619 observations and 10 rows \n",
        "\n",
        "name - name of the athlete \n",
        "\n",
        "age - age of the athlete \n",
        "\n",
        "country - country represented by athlete \n",
        "\n",
        "year - year that the athlete participated in \n",
        "\n",
        "date_given - date of the participation \n",
        "\n",
        "sports- the game that the athlete participated in \n",
        "\n",
        "gold medal - No. of gold medals won by athlete \n",
        "\n",
        "silver medal - no. of silver medals won by the athlete \n",
        "\n",
        "bronze medal - no. of bronze medals won by the athlete \n",
        "\n",
        "total medals - sum of all the medals won by the athlete \n",
        "\n"
      ],
      "metadata": {
        "id": "e1j68t1sZIUS"
      }
    },
    {
      "cell_type": "code",
      "execution_count": null,
      "metadata": {
        "colab": {
          "base_uri": "https://localhost:8080/"
        },
        "id": "xQ8sKIWQQgcT",
        "outputId": "dc0eead1-03de-4cec-8f42-81f73e38b0ae"
      },
      "outputs": [
        {
          "output_type": "stream",
          "name": "stdout",
          "text": [
            "Looking in indexes: https://pypi.org/simple, https://us-python.pkg.dev/colab-wheels/public/simple/\n",
            "Requirement already satisfied: pyspark in /usr/local/lib/python3.7/dist-packages (3.3.0)\n",
            "Requirement already satisfied: py4j==0.10.9.5 in /usr/local/lib/python3.7/dist-packages (from pyspark) (0.10.9.5)\n"
          ]
        }
      ],
      "source": [
        "pip install pyspark "
      ]
    },
    {
      "cell_type": "code",
      "execution_count": null,
      "metadata": {
        "id": "nZHw1U1lQspn",
        "colab": {
          "base_uri": "https://localhost:8080/",
          "height": 259
        },
        "outputId": "94a9fcc5-00d7-4882-f1ea-266aec963a53"
      },
      "outputs": [
        {
          "output_type": "error",
          "ename": "ValueError",
          "evalue": "ignored",
          "traceback": [
            "\u001b[0;31m---------------------------------------------------------------------------\u001b[0m",
            "\u001b[0;31mValueError\u001b[0m                                Traceback (most recent call last)",
            "\u001b[0;32m<ipython-input-32-243910bc18ca>\u001b[0m in \u001b[0;36m<module>\u001b[0;34m()\u001b[0m\n\u001b[1;32m      6\u001b[0m \u001b[0;31m#Spark Config\u001b[0m\u001b[0;34m\u001b[0m\u001b[0;34m\u001b[0m\u001b[0;34m\u001b[0m\u001b[0m\n\u001b[1;32m      7\u001b[0m \u001b[0mconf\u001b[0m \u001b[0;34m=\u001b[0m \u001b[0mSparkConf\u001b[0m\u001b[0;34m(\u001b[0m\u001b[0;34m)\u001b[0m\u001b[0;34m.\u001b[0m\u001b[0msetAppName\u001b[0m\u001b[0;34m(\u001b[0m\u001b[0;34m\"aadhar_app\"\u001b[0m\u001b[0;34m)\u001b[0m\u001b[0;34m\u001b[0m\u001b[0;34m\u001b[0m\u001b[0m\n\u001b[0;32m----> 8\u001b[0;31m \u001b[0msc\u001b[0m \u001b[0;34m=\u001b[0m \u001b[0mSparkContext\u001b[0m\u001b[0;34m(\u001b[0m\u001b[0mconf\u001b[0m \u001b[0;34m=\u001b[0m \u001b[0mconf\u001b[0m\u001b[0;34m)\u001b[0m\u001b[0;34m\u001b[0m\u001b[0;34m\u001b[0m\u001b[0m\n\u001b[0m\u001b[1;32m      9\u001b[0m \u001b[0mspark\u001b[0m \u001b[0;34m=\u001b[0m \u001b[0mSparkSession\u001b[0m\u001b[0;34m.\u001b[0m\u001b[0mbuilder\u001b[0m\u001b[0;34m.\u001b[0m\u001b[0mappName\u001b[0m\u001b[0;34m(\u001b[0m\u001b[0;34m'Aadhar'\u001b[0m\u001b[0;34m)\u001b[0m\u001b[0;34m.\u001b[0m\u001b[0mgetOrCreate\u001b[0m\u001b[0;34m(\u001b[0m\u001b[0;34m)\u001b[0m\u001b[0;34m\u001b[0m\u001b[0;34m\u001b[0m\u001b[0m\n",
            "\u001b[0;32m/usr/local/lib/python3.7/dist-packages/pyspark/context.py\u001b[0m in \u001b[0;36m__init__\u001b[0;34m(self, master, appName, sparkHome, pyFiles, environment, batchSize, serializer, conf, gateway, jsc, profiler_cls, udf_profiler_cls)\u001b[0m\n\u001b[1;32m    193\u001b[0m             )\n\u001b[1;32m    194\u001b[0m \u001b[0;34m\u001b[0m\u001b[0m\n\u001b[0;32m--> 195\u001b[0;31m         \u001b[0mSparkContext\u001b[0m\u001b[0;34m.\u001b[0m\u001b[0m_ensure_initialized\u001b[0m\u001b[0;34m(\u001b[0m\u001b[0mself\u001b[0m\u001b[0;34m,\u001b[0m \u001b[0mgateway\u001b[0m\u001b[0;34m=\u001b[0m\u001b[0mgateway\u001b[0m\u001b[0;34m,\u001b[0m \u001b[0mconf\u001b[0m\u001b[0;34m=\u001b[0m\u001b[0mconf\u001b[0m\u001b[0;34m)\u001b[0m\u001b[0;34m\u001b[0m\u001b[0;34m\u001b[0m\u001b[0m\n\u001b[0m\u001b[1;32m    196\u001b[0m         \u001b[0;32mtry\u001b[0m\u001b[0;34m:\u001b[0m\u001b[0;34m\u001b[0m\u001b[0;34m\u001b[0m\u001b[0m\n\u001b[1;32m    197\u001b[0m             self._do_init(\n",
            "\u001b[0;32m/usr/local/lib/python3.7/dist-packages/pyspark/context.py\u001b[0m in \u001b[0;36m_ensure_initialized\u001b[0;34m(cls, instance, gateway, conf)\u001b[0m\n\u001b[1;32m    437\u001b[0m                             \u001b[0mcallsite\u001b[0m\u001b[0;34m.\u001b[0m\u001b[0mfunction\u001b[0m\u001b[0;34m,\u001b[0m\u001b[0;34m\u001b[0m\u001b[0;34m\u001b[0m\u001b[0m\n\u001b[1;32m    438\u001b[0m                             \u001b[0mcallsite\u001b[0m\u001b[0;34m.\u001b[0m\u001b[0mfile\u001b[0m\u001b[0;34m,\u001b[0m\u001b[0;34m\u001b[0m\u001b[0;34m\u001b[0m\u001b[0m\n\u001b[0;32m--> 439\u001b[0;31m                             \u001b[0mcallsite\u001b[0m\u001b[0;34m.\u001b[0m\u001b[0mlinenum\u001b[0m\u001b[0;34m,\u001b[0m\u001b[0;34m\u001b[0m\u001b[0;34m\u001b[0m\u001b[0m\n\u001b[0m\u001b[1;32m    440\u001b[0m                         )\n\u001b[1;32m    441\u001b[0m                     )\n",
            "\u001b[0;31mValueError\u001b[0m: Cannot run multiple SparkContexts at once; existing SparkContext(app=aadhar_app, master=local[*]) created by __init__ at <ipython-input-3-243910bc18ca>:8 "
          ]
        }
      ],
      "source": [
        "#Importing and configuring all the necessary libraries \n",
        "#Initiallizing pyspark\n",
        "from pyspark import SparkContext,SparkConf\n",
        "from pyspark.sql import SparkSession \n",
        "from pyspark.sql import SQLContext\n",
        "#Spark Config\n",
        "conf = SparkConf().setAppName(\"aadhar_app\")\n",
        "sc = SparkContext(conf = conf)\n",
        "spark = SparkSession.builder.appName('Aadhar').getOrCreate()"
      ]
    },
    {
      "cell_type": "code",
      "execution_count": null,
      "metadata": {
        "id": "w9YeckUYWr8U"
      },
      "outputs": [],
      "source": [
        "from pyspark.sql import functions as f"
      ]
    },
    {
      "cell_type": "code",
      "execution_count": 116,
      "metadata": {
        "id": "0kKoeG_RQwY0"
      },
      "outputs": [],
      "source": [
        "df = spark.read.format(\"csv\").option(\"header\", \"True\").option(\"inferSchema\", \"True\").load(\"/content/olympix_data_organized_with_header (1) (1).csv\")"
      ]
    },
    {
      "cell_type": "code",
      "execution_count": 117,
      "metadata": {
        "colab": {
          "base_uri": "https://localhost:8080/"
        },
        "id": "4WVWzt0nRDn0",
        "outputId": "f7c80559-40a4-4c69-f029-c2ffc7144aa2"
      },
      "outputs": [
        {
          "output_type": "stream",
          "name": "stdout",
          "text": [
            "+--------------------+---+-------------+----+----------+--------------------+----------+------------+-----------+-----------+\n",
            "|                name|age|      country|year|Date_Given|              sports|gold_medal|silver_medal|brone_medal|total_medal|\n",
            "+--------------------+---+-------------+----+----------+--------------------+----------+------------+-----------+-----------+\n",
            "|      Michael Phelps| 23|United States|2008| 8/24/2008|            Swimming|         8|           0|          0|          8|\n",
            "|      Michael Phelps| 19|United States|2004| 8/29/2004|            Swimming|         6|           0|          2|          8|\n",
            "|      Michael Phelps| 27|United States|2012|08-12-2012|            Swimming|         4|           2|          0|          6|\n",
            "|    Natalie Coughlin| 25|United States|2008| 8/24/2008|            Swimming|         1|           2|          3|          6|\n",
            "|       Aleksey Nemov| 24|       Russia|2000|10-01-2000|          Gymnastics|         2|           1|          3|          6|\n",
            "|       Alicia Coutts| 24|    Australia|2012|08-12-2012|            Swimming|         1|           3|          1|          5|\n",
            "|      Missy Franklin| 17|United States|2012|08-12-2012|            Swimming|         4|           0|          1|          5|\n",
            "|         Ryan Lochte| 27|United States|2012|08-12-2012|            Swimming|         2|           2|          1|          5|\n",
            "|     Allison Schmitt| 22|United States|2012|08-12-2012|            Swimming|         3|           1|          1|          5|\n",
            "|    Natalie Coughlin| 21|United States|2004| 8/29/2004|            Swimming|         2|           2|          1|          5|\n",
            "|          Ian Thorpe| 17|    Australia|2000|10-01-2000|            Swimming|         3|           2|          0|          5|\n",
            "|         Dara Torres| 33|United States|2000|10-01-2000|            Swimming|         2|           0|          3|          5|\n",
            "|       Cindy Klassen| 26|       Canada|2006| 2/26/2006|       Speed Skating|         1|           2|          2|          5|\n",
            "|       Nastia Liukin| 18|United States|2008| 8/24/2008|          Gymnastics|         1|           3|          1|          5|\n",
            "|       Marit Bjørgen| 29|       Norway|2010| 2/28/2010|Cross Country Skiing|         3|           1|          1|          5|\n",
            "|            Sun Yang| 20|        China|2012|08-12-2012|            Swimming|         2|           1|          1|          4|\n",
            "|     Kirsty Coventry| 24|     Zimbabwe|2008| 8/24/2008|            Swimming|         1|           3|          0|          4|\n",
            "|Libby Lenton-Tric...| 23|    Australia|2008| 8/24/2008|            Swimming|         2|           1|          1|          4|\n",
            "|         Ryan Lochte| 24|United States|2008| 8/24/2008|            Swimming|         2|           0|          2|          4|\n",
            "|      Inge de Bruijn| 30|  Netherlands|2004| 8/29/2004|            Swimming|         1|           1|          2|          4|\n",
            "+--------------------+---+-------------+----+----------+--------------------+----------+------------+-----------+-----------+\n",
            "only showing top 20 rows\n",
            "\n"
          ]
        }
      ],
      "source": [
        "df.show()"
      ]
    },
    {
      "cell_type": "code",
      "execution_count": 118,
      "metadata": {
        "id": "WPpCTlTBTcB8"
      },
      "outputs": [],
      "source": [
        "import regex as re"
      ]
    },
    {
      "cell_type": "code",
      "execution_count": 119,
      "metadata": {
        "colab": {
          "base_uri": "https://localhost:8080/"
        },
        "id": "f9JU4eRDRmkT",
        "outputId": "0d9365a6-6f0f-4cfc-dc42-e62fc3e68ac4"
      },
      "outputs": [
        {
          "output_type": "stream",
          "name": "stdout",
          "text": [
            "+---------------+---+-------------+----+----------+--------------------+----------+------------+-----------+-----------+\n",
            "|           name|age|      country|year|Date_Given|              sports|gold_medal|silver_medal|brone_medal|total_medal|\n",
            "+---------------+---+-------------+----+----------+--------------------+----------+------------+-----------+-----------+\n",
            "|  MichaelPhelps| 23|United States|2008| 8/24/2008|            Swimming|         8|           0|          0|          8|\n",
            "|  MichaelPhelps| 19|United States|2004| 8/29/2004|            Swimming|         6|           0|          2|          8|\n",
            "|  MichaelPhelps| 27|United States|2012|08-12-2012|            Swimming|         4|           2|          0|          6|\n",
            "|NatalieCoughlin| 25|United States|2008| 8/24/2008|            Swimming|         1|           2|          3|          6|\n",
            "|   AlekseyNemov| 24|       Russia|2000|10-01-2000|          Gymnastics|         2|           1|          3|          6|\n",
            "|   AliciaCoutts| 24|    Australia|2012|08-12-2012|            Swimming|         1|           3|          1|          5|\n",
            "|  MissyFranklin| 17|United States|2012|08-12-2012|            Swimming|         4|           0|          1|          5|\n",
            "|     RyanLochte| 27|United States|2012|08-12-2012|            Swimming|         2|           2|          1|          5|\n",
            "| AllisonSchmitt| 22|United States|2012|08-12-2012|            Swimming|         3|           1|          1|          5|\n",
            "|NatalieCoughlin| 21|United States|2004| 8/29/2004|            Swimming|         2|           2|          1|          5|\n",
            "|      IanThorpe| 17|    Australia|2000|10-01-2000|            Swimming|         3|           2|          0|          5|\n",
            "|     DaraTorres| 33|United States|2000|10-01-2000|            Swimming|         2|           0|          3|          5|\n",
            "|   CindyKlassen| 26|       Canada|2006| 2/26/2006|       Speed Skating|         1|           2|          2|          5|\n",
            "|   NastiaLiukin| 18|United States|2008| 8/24/2008|          Gymnastics|         1|           3|          1|          5|\n",
            "|    MaritBjrgen| 29|       Norway|2010| 2/28/2010|Cross Country Skiing|         3|           1|          1|          5|\n",
            "|        SunYang| 20|        China|2012|08-12-2012|            Swimming|         2|           1|          1|          4|\n",
            "+---------------+---+-------------+----+----------+--------------------+----------+------------+-----------+-----------+\n",
            "only showing top 16 rows\n",
            "\n"
          ]
        }
      ],
      "source": [
        "df = df.withColumn(\"name\", f.regexp_replace(df['name'], \"[^A-Za-z0-9_]\", \"\"));\n",
        "df.show(16)"
      ]
    },
    {
      "cell_type": "code",
      "execution_count": 120,
      "metadata": {
        "colab": {
          "base_uri": "https://localhost:8080/"
        },
        "id": "QrAOwa9qUGu3",
        "outputId": "8d03cd01-0de3-4c9e-fe20-d8fc6ba856fe"
      },
      "outputs": [
        {
          "output_type": "stream",
          "name": "stdout",
          "text": [
            "+----+----+---------+----+----------+----------+----------+------------+-----------+-----------+\n",
            "|name| age|  country|year|Date_Given|    sports|gold_medal|silver_medal|brone_medal|total_medal|\n",
            "+----+----+---------+----+----------+----------+----------+------------+-----------+-----------+\n",
            "|null|null|   Brazil|2012|08-12-2012|Volleyball|         0|           1|          0|          1|\n",
            "|null|null|   Brazil|2012|08-12-2012|Volleyball|         0|           1|          0|          1|\n",
            "|null|null|   Brazil|2012|08-12-2012|Volleyball|         0|           1|          0|          1|\n",
            "|null|null|Argentina|2012|08-12-2012|    Hockey|         0|           1|          0|          1|\n",
            "|null|null|Argentina|2012|08-12-2012|    Hockey|         0|           1|          0|          1|\n",
            "+----+----+---------+----+----------+----------+----------+------------+-----------+-----------+\n",
            "\n"
          ]
        }
      ],
      "source": [
        "df.filter(df.name.isNull()).show() # here we can see name and age has null values and also it contains duplicates "
      ]
    },
    {
      "cell_type": "markdown",
      "source": [
        "Dropping all these null values as \"name\" cannot be filled with random values, it will lead to less reliability of data "
      ],
      "metadata": {
        "id": "4dLkMbqTZtBl"
      }
    },
    {
      "cell_type": "code",
      "source": [
        "df = df.dropna() # dropping the 5 rows containing null values shown above"
      ],
      "metadata": {
        "id": "MaEnyhbXIKOk"
      },
      "execution_count": 121,
      "outputs": []
    },
    {
      "cell_type": "code",
      "source": [
        "df.select('sports').distinct().show(50)  # here are all the Games/Sports played in the olympics"
      ],
      "metadata": {
        "colab": {
          "base_uri": "https://localhost:8080/"
        },
        "id": "euB9JtCncBhD",
        "outputId": "7a81b9dd-7406-43dc-aa14-261e2ee03f41"
      },
      "execution_count": 122,
      "outputs": [
        {
          "output_type": "stream",
          "name": "stdout",
          "text": [
            "+--------------------+\n",
            "|              sports|\n",
            "+--------------------+\n",
            "|          Gymnastics|\n",
            "|              Tennis|\n",
            "|              Boxing|\n",
            "|Short-Track Speed...|\n",
            "|          Ice Hockey|\n",
            "|              Rowing|\n",
            "|                Judo|\n",
            "|            Softball|\n",
            "|             Sailing|\n",
            "|            Swimming|\n",
            "|       Alpine Skiing|\n",
            "|          Basketball|\n",
            "|            Handball|\n",
            "| Rhythmic Gymnastics|\n",
            "|            Biathlon|\n",
            "|           Triathlon|\n",
            "|           Badminton|\n",
            "|           Athletics|\n",
            "|      Figure Skating|\n",
            "|    Beach Volleyball|\n",
            "|          Equestrian|\n",
            "|            Shooting|\n",
            "|              Diving|\n",
            "|            Skeleton|\n",
            "|         Ski Jumping|\n",
            "|     Nordic Combined|\n",
            "|           Wrestling|\n",
            "|       Speed Skating|\n",
            "|        Table Tennis|\n",
            "|           Taekwondo|\n",
            "|            Canoeing|\n",
            "|       Weightlifting|\n",
            "|           Waterpolo|\n",
            "|            Baseball|\n",
            "|   Modern Pentathlon|\n",
            "|        Snowboarding|\n",
            "|           Bobsleigh|\n",
            "|             Cycling|\n",
            "|Cross Country Skiing|\n",
            "|          Volleyball|\n",
            "|             Archery|\n",
            "|Synchronized Swim...|\n",
            "|             Curling|\n",
            "|             Fencing|\n",
            "|              Hockey|\n",
            "|    Freestyle Skiing|\n",
            "|            Football|\n",
            "|                Luge|\n",
            "|          Trampoline|\n",
            "+--------------------+\n",
            "\n"
          ]
        }
      ]
    },
    {
      "cell_type": "code",
      "source": [
        "# Importing libraries for data visualisation\n",
        "import seaborn as sns \n",
        "from matplotlib import pyplot as plt "
      ],
      "metadata": {
        "id": "V6mYVBycs7ha"
      },
      "execution_count": 123,
      "outputs": []
    },
    {
      "cell_type": "code",
      "source": [
        "res = df.groupBy('sports').agg({\"total_medal\":\"sum\"}) #Getting total medals for each sports\n",
        "res.show()"
      ],
      "metadata": {
        "colab": {
          "base_uri": "https://localhost:8080/"
        },
        "id": "z4eq5ZnMtxOk",
        "outputId": "81b05fbe-988b-4815-bb6d-842102431960"
      },
      "execution_count": 124,
      "outputs": [
        {
          "output_type": "stream",
          "name": "stdout",
          "text": [
            "+--------------------+----------------+\n",
            "|              sports|sum(total_medal)|\n",
            "+--------------------+----------------+\n",
            "|          Gymnastics|             282|\n",
            "|              Tennis|              78|\n",
            "|              Boxing|             188|\n",
            "|Short-Track Speed...|             138|\n",
            "|          Ice Hockey|             384|\n",
            "|              Rowing|             576|\n",
            "|                Judo|             224|\n",
            "|            Softball|             134|\n",
            "|             Sailing|             210|\n",
            "|            Swimming|             765|\n",
            "|       Alpine Skiing|              90|\n",
            "|          Basketball|             287|\n",
            "|            Handball|             351|\n",
            "| Rhythmic Gymnastics|              84|\n",
            "|            Biathlon|             138|\n",
            "|           Triathlon|              24|\n",
            "|           Badminton|              96|\n",
            "|           Athletics|             753|\n",
            "|      Figure Skating|              54|\n",
            "|    Beach Volleyball|              48|\n",
            "+--------------------+----------------+\n",
            "only showing top 20 rows\n",
            "\n"
          ]
        }
      ]
    },
    {
      "cell_type": "code",
      "source": [
        "pandas_df = res.toPandas() # converting to pyspark dataframe to pandas for plotting "
      ],
      "metadata": {
        "id": "uvr7Focbtxns"
      },
      "execution_count": 125,
      "outputs": []
    },
    {
      "cell_type": "code",
      "source": [
        "plt.figure(figsize= (18,8))\n",
        "plt.title('Total Medals by Sports')\n",
        "sns.barplot(x = \"sports\", y = \"sum(total_medal)\", data = pandas_df) # plotting bargraph for the data "
      ],
      "metadata": {
        "colab": {
          "base_uri": "https://localhost:8080/",
          "height": 454
        },
        "id": "5qQ-Qo3-uTKO",
        "outputId": "cab38ab6-ccb2-4f40-ea44-afc20de68b0f"
      },
      "execution_count": 126,
      "outputs": [
        {
          "output_type": "execute_result",
          "data": {
            "text/plain": [
              "<matplotlib.axes._subplots.AxesSubplot at 0x7f841be72110>"
            ]
          },
          "metadata": {},
          "execution_count": 126
        },
        {
          "output_type": "display_data",
          "data": {
            "text/plain": [
              "<Figure size 1296x576 with 1 Axes>"
            ],
            "image/png": "[encoded data removed]"
          },
          "metadata": {
            "needs_background": "light"
          }
        }
      ]
    },
    {
      "cell_type": "code",
      "source": [
        "sorted_res = df.groupBy('sports').agg({\"total_medal\":\"sum\"}).sort('sum(total_medal)', ascending = False ) \n",
        " # getting total medal for each sport sorted by highest medals"
      ],
      "metadata": {
        "id": "zxbdLWDp51L1"
      },
      "execution_count": 127,
      "outputs": []
    },
    {
      "cell_type": "code",
      "source": [
        "sorted_res.show()"
      ],
      "metadata": {
        "colab": {
          "base_uri": "https://localhost:8080/"
        },
        "id": "GaCPc7Ic5P9a",
        "outputId": "aa0bf567-35a6-481b-9168-f0882747b9f2"
      },
      "execution_count": 128,
      "outputs": [
        {
          "output_type": "stream",
          "name": "stdout",
          "text": [
            "+----------+----------------+\n",
            "|    sports|sum(total_medal)|\n",
            "+----------+----------------+\n",
            "|  Swimming|             765|\n",
            "| Athletics|             753|\n",
            "|    Rowing|             576|\n",
            "|  Football|             407|\n",
            "|    Hockey|             386|\n",
            "|Ice Hockey|             384|\n",
            "|  Handball|             351|\n",
            "|  Canoeing|             333|\n",
            "| Waterpolo|             306|\n",
            "|   Cycling|             306|\n",
            "|Basketball|             287|\n",
            "|Gymnastics|             282|\n",
            "|Volleyball|             278|\n",
            "|   Fencing|             256|\n",
            "| Wrestling|             245|\n",
            "|      Judo|             224|\n",
            "|  Baseball|             216|\n",
            "|   Sailing|             210|\n",
            "|  Shooting|             192|\n",
            "|    Boxing|             188|\n",
            "+----------+----------------+\n",
            "only showing top 20 rows\n",
            "\n"
          ]
        }
      ]
    },
    {
      "cell_type": "code",
      "source": [
        "swimming_df = df.where(df['sports'] == \"Swimming\") # creating a dataframe only consisting of swimming sports"
      ],
      "metadata": {
        "id": "cUEpz37SBEaJ"
      },
      "execution_count": 136,
      "outputs": []
    },
    {
      "cell_type": "code",
      "source": [
        "swimming_df.show() "
      ],
      "metadata": {
        "colab": {
          "base_uri": "https://localhost:8080/"
        },
        "id": "5kUaUSEaLsMl",
        "outputId": "e8c57f7b-f003-4ecd-82af-87ab75bc16e2"
      },
      "execution_count": 139,
      "outputs": [
        {
          "output_type": "stream",
          "name": "stdout",
          "text": [
            "+-------------------+---+-------------+----+----------+--------+----------+------------+-----------+-----------+\n",
            "|               name|age|      country|year|Date_Given|  sports|gold_medal|silver_medal|brone_medal|total_medal|\n",
            "+-------------------+---+-------------+----+----------+--------+----------+------------+-----------+-----------+\n",
            "|      MichaelPhelps| 23|United States|2008| 8/24/2008|Swimming|         8|           0|          0|          8|\n",
            "|      MichaelPhelps| 19|United States|2004| 8/29/2004|Swimming|         6|           0|          2|          8|\n",
            "|      MichaelPhelps| 27|United States|2012|08-12-2012|Swimming|         4|           2|          0|          6|\n",
            "|    NatalieCoughlin| 25|United States|2008| 8/24/2008|Swimming|         1|           2|          3|          6|\n",
            "|       AliciaCoutts| 24|    Australia|2012|08-12-2012|Swimming|         1|           3|          1|          5|\n",
            "|      MissyFranklin| 17|United States|2012|08-12-2012|Swimming|         4|           0|          1|          5|\n",
            "|         RyanLochte| 27|United States|2012|08-12-2012|Swimming|         2|           2|          1|          5|\n",
            "|     AllisonSchmitt| 22|United States|2012|08-12-2012|Swimming|         3|           1|          1|          5|\n",
            "|    NatalieCoughlin| 21|United States|2004| 8/29/2004|Swimming|         2|           2|          1|          5|\n",
            "|          IanThorpe| 17|    Australia|2000|10-01-2000|Swimming|         3|           2|          0|          5|\n",
            "|         DaraTorres| 33|United States|2000|10-01-2000|Swimming|         2|           0|          3|          5|\n",
            "|            SunYang| 20|        China|2012|08-12-2012|Swimming|         2|           1|          1|          4|\n",
            "|     KirstyCoventry| 24|     Zimbabwe|2008| 8/24/2008|Swimming|         1|           3|          0|          4|\n",
            "|LibbyLentonTrickett| 23|    Australia|2008| 8/24/2008|Swimming|         2|           1|          1|          4|\n",
            "|         RyanLochte| 24|United States|2008| 8/24/2008|Swimming|         2|           0|          2|          4|\n",
            "|       IngedeBruijn| 30|  Netherlands|2004| 8/29/2004|Swimming|         1|           1|          2|          4|\n",
            "|       PetriaThomas| 28|    Australia|2004| 8/29/2004|Swimming|         3|           1|          0|          4|\n",
            "|          IanThorpe| 21|    Australia|2004| 8/29/2004|Swimming|         2|           1|          1|          4|\n",
            "|       IngedeBruijn| 27|  Netherlands|2000|10-01-2000|Swimming|         3|           1|          0|          4|\n",
            "|         GaryHallJr| 25|United States|2000|10-01-2000|Swimming|         2|           1|          1|          4|\n",
            "+-------------------+---+-------------+----+----------+--------+----------+------------+-----------+-----------+\n",
            "only showing top 20 rows\n",
            "\n"
          ]
        }
      ]
    },
    {
      "cell_type": "code",
      "source": [
        "total_swimming_medal = swimming_df.groupBy(df['country']).agg({\"total_medal\":\"sum\"}) \n",
        "# creating a data frame consisting of total medal won by each country in swimming"
      ],
      "metadata": {
        "id": "fIrDtzitCX5z"
      },
      "execution_count": 137,
      "outputs": []
    },
    {
      "cell_type": "code",
      "source": [
        "total_swimming_medal.show()"
      ],
      "metadata": {
        "colab": {
          "base_uri": "https://localhost:8080/"
        },
        "id": "sjhxAlsRIj3E",
        "outputId": "da3e959e-37c5-412b-ace1-cbec6ae1e6ee"
      },
      "execution_count": 138,
      "outputs": [
        {
          "output_type": "stream",
          "name": "stdout",
          "text": [
            "+-------------+----------------+\n",
            "|      country|sum(total_medal)|\n",
            "+-------------+----------------+\n",
            "|       Russia|              20|\n",
            "|       Sweden|               9|\n",
            "|      Germany|              32|\n",
            "|       France|              39|\n",
            "|     Slovakia|               2|\n",
            "|    Argentina|               1|\n",
            "|Great Britain|              11|\n",
            "|United States|             267|\n",
            "|        China|              35|\n",
            "|      Belarus|               2|\n",
            "|      Croatia|               1|\n",
            "|        Italy|              16|\n",
            "|    Lithuania|               1|\n",
            "|       Norway|               2|\n",
            "|        Spain|               3|\n",
            "|      Denmark|               1|\n",
            "|      Ukraine|               7|\n",
            "|  South Korea|               4|\n",
            "|     Zimbabwe|               7|\n",
            "|      Tunisia|               3|\n",
            "+-------------+----------------+\n",
            "only showing top 20 rows\n",
            "\n"
          ]
        }
      ]
    },
    {
      "cell_type": "code",
      "source": [
        "skeleton_df = df.where(df['sports'] == \"Skeleton\")\n",
        "#creating a dataframe for skeleton sports"
      ],
      "metadata": {
        "id": "iuxYaeQBMI15"
      },
      "execution_count": 147,
      "outputs": []
    },
    {
      "cell_type": "code",
      "source": [
        "skeleton_df.show()"
      ],
      "metadata": {
        "id": "XDY8Xz1NN7zS"
      },
      "execution_count": null,
      "outputs": []
    },
    {
      "cell_type": "code",
      "source": [
        "total_skeleton_medal= skeleton_df.groupBy('country').agg({'total_medal':'sum'})\n",
        "#creating dataframe for total medals won in skeleton game by each country"
      ],
      "metadata": {
        "id": "boTieHHWMy1o"
      },
      "execution_count": 149,
      "outputs": []
    },
    {
      "cell_type": "code",
      "source": [
        "total_skeleton_medal.show()"
      ],
      "metadata": {
        "colab": {
          "base_uri": "https://localhost:8080/"
        },
        "id": "_iFR2OzOOBG4",
        "outputId": "cf47c170-2d77-4eb2-ff28-646cbcbae26e"
      },
      "execution_count": 150,
      "outputs": [
        {
          "output_type": "stream",
          "name": "stdout",
          "text": [
            "+-------------+----------------+\n",
            "|      country|sum(total_medal)|\n",
            "+-------------+----------------+\n",
            "|       Russia|               1|\n",
            "|      Germany|               2|\n",
            "|Great Britain|               3|\n",
            "|United States|               3|\n",
            "|  Switzerland|               3|\n",
            "|       Latvia|               1|\n",
            "|       Canada|               4|\n",
            "|      Austria|               1|\n",
            "+-------------+----------------+\n",
            "\n"
          ]
        }
      ]
    },
    {
      "cell_type": "code",
      "source": [
        "US_df = df.where(df['country'] == \"United States\") # creating dataframe where country is United States"
      ],
      "metadata": {
        "id": "Wk5yhwm6OGxv"
      },
      "execution_count": 153,
      "outputs": []
    },
    {
      "cell_type": "code",
      "source": [
        "US_df.show()"
      ],
      "metadata": {
        "colab": {
          "base_uri": "https://localhost:8080/"
        },
        "id": "CpIzehSUOiuG",
        "outputId": "7d977775-cc2b-483d-86ce-a4f3be3d0911"
      },
      "execution_count": 154,
      "outputs": [
        {
          "output_type": "stream",
          "name": "stdout",
          "text": [
            "+---------------+---+-------------+----+----------+----------+----------+------------+-----------+-----------+\n",
            "|           name|age|      country|year|Date_Given|    sports|gold_medal|silver_medal|brone_medal|total_medal|\n",
            "+---------------+---+-------------+----+----------+----------+----------+------------+-----------+-----------+\n",
            "|  MichaelPhelps| 23|United States|2008| 8/24/2008|  Swimming|         8|           0|          0|          8|\n",
            "|  MichaelPhelps| 19|United States|2004| 8/29/2004|  Swimming|         6|           0|          2|          8|\n",
            "|  MichaelPhelps| 27|United States|2012|08-12-2012|  Swimming|         4|           2|          0|          6|\n",
            "|NatalieCoughlin| 25|United States|2008| 8/24/2008|  Swimming|         1|           2|          3|          6|\n",
            "|  MissyFranklin| 17|United States|2012|08-12-2012|  Swimming|         4|           0|          1|          5|\n",
            "|     RyanLochte| 27|United States|2012|08-12-2012|  Swimming|         2|           2|          1|          5|\n",
            "| AllisonSchmitt| 22|United States|2012|08-12-2012|  Swimming|         3|           1|          1|          5|\n",
            "|NatalieCoughlin| 21|United States|2004| 8/29/2004|  Swimming|         2|           2|          1|          5|\n",
            "|     DaraTorres| 33|United States|2000|10-01-2000|  Swimming|         2|           0|          3|          5|\n",
            "|   NastiaLiukin| 18|United States|2008| 8/24/2008|Gymnastics|         1|           3|          1|          5|\n",
            "|     RyanLochte| 24|United States|2008| 8/24/2008|  Swimming|         2|           0|          2|          4|\n",
            "|     GaryHallJr| 25|United States|2000|10-01-2000|  Swimming|         2|           1|          1|          4|\n",
            "|  JennyThompson| 27|United States|2000|10-01-2000|  Swimming|         3|           0|          1|          4|\n",
            "|   ShawnJohnson| 16|United States|2008| 8/24/2008|Gymnastics|         1|           3|          0|          4|\n",
            "|   NathanAdrian| 23|United States|2012|08-12-2012|  Swimming|         2|           1|          0|          3|\n",
            "|    MattGrevers| 27|United States|2012|08-12-2012|  Swimming|         2|           1|          0|          3|\n",
            "|    CullenJones| 28|United States|2012|08-12-2012|  Swimming|         1|           2|          0|          3|\n",
            "|    RebeccaSoni| 25|United States|2012|08-12-2012|  Swimming|         2|           1|          0|          3|\n",
            "|    DanaVollmer| 24|United States|2012|08-12-2012|  Swimming|         3|           0|          0|          3|\n",
            "|    MattGrevers| 23|United States|2008| 8/24/2008|  Swimming|         2|           1|          0|          3|\n",
            "+---------------+---+-------------+----+----------+----------+----------+------------+-----------+-----------+\n",
            "only showing top 20 rows\n",
            "\n"
          ]
        }
      ]
    },
    {
      "cell_type": "code",
      "source": [
        "Yearly_medals_US = US_df.groupBy(\"year\").agg({'total_medal':'sum'}) # Creating dataframe for total medals wonn by US in each year "
      ],
      "metadata": {
        "id": "VcYxbZUfPAif"
      },
      "execution_count": 156,
      "outputs": []
    },
    {
      "cell_type": "code",
      "source": [
        "Yearly_medals_US.show()"
      ],
      "metadata": {
        "colab": {
          "base_uri": "https://localhost:8080/"
        },
        "id": "YJ3lFBYmPLns",
        "outputId": "fa2151ff-d7eb-4291-88c6-6c6f1f034909"
      },
      "execution_count": 157,
      "outputs": [
        {
          "output_type": "stream",
          "name": "stdout",
          "text": [
            "+----+----------------+\n",
            "|year|sum(total_medal)|\n",
            "+----+----------------+\n",
            "|2006|              52|\n",
            "|2004|             265|\n",
            "|2012|             254|\n",
            "|2000|             243|\n",
            "|2010|              97|\n",
            "|2008|             317|\n",
            "|2002|              84|\n",
            "+----+----------------+\n",
            "\n"
          ]
        }
      ]
    },
    {
      "cell_type": "code",
      "source": [
        "Country_medals = df.groupBy('country').agg({'total_medal':'sum'})"
      ],
      "metadata": {
        "id": "gv2uct82PqmU"
      },
      "execution_count": 158,
      "outputs": []
    },
    {
      "cell_type": "code",
      "source": [
        "Country_medals.show()"
      ],
      "metadata": {
        "colab": {
          "base_uri": "https://localhost:8080/"
        },
        "id": "1cMJOXRpP6zy",
        "outputId": "8e9dca2c-269c-42c0-e8d3-585f0d0e45a1"
      },
      "execution_count": 159,
      "outputs": [
        {
          "output_type": "stream",
          "name": "stdout",
          "text": [
            "+--------------+----------------+\n",
            "|       country|sum(total_medal)|\n",
            "+--------------+----------------+\n",
            "|        Russia|             768|\n",
            "|      Paraguay|              17|\n",
            "|Chinese Taipei|              20|\n",
            "|        Sweden|             181|\n",
            "|       Eritrea|               1|\n",
            "|     Singapore|               7|\n",
            "|      Malaysia|               3|\n",
            "|        Turkey|              28|\n",
            "|       Germany|             629|\n",
            "|   Afghanistan|               2|\n",
            "|         Sudan|               1|\n",
            "|        France|             318|\n",
            "|        Greece|              59|\n",
            "|     Sri Lanka|               1|\n",
            "|       Algeria|               8|\n",
            "|          Togo|               1|\n",
            "|      Slovakia|              35|\n",
            "|     Argentina|             139|\n",
            "|       Belgium|              18|\n",
            "| Great Britain|             322|\n",
            "+--------------+----------------+\n",
            "only showing top 20 rows\n",
            "\n"
          ]
        }
      ]
    },
    {
      "cell_type": "code",
      "source": [
        "df.agg({'age':'max'}).show() # getting the max age "
      ],
      "metadata": {
        "colab": {
          "base_uri": "https://localhost:8080/"
        },
        "id": "MFU0-Y__QGYg",
        "outputId": "b0d0c6f4-b7a8-4a5b-b22b-1906e5e1208b"
      },
      "execution_count": 178,
      "outputs": [
        {
          "output_type": "stream",
          "name": "stdout",
          "text": [
            "+--------+\n",
            "|max(age)|\n",
            "+--------+\n",
            "|      61|\n",
            "+--------+\n",
            "\n"
          ]
        }
      ]
    },
    {
      "cell_type": "code",
      "source": [
        "max_age_athlete = df.select('name','age','country').where(df['age'] == 61) # finding the athlete whose age is 61 i.e athlete with ma age "
      ],
      "metadata": {
        "id": "IUur_x6sQTR8"
      },
      "execution_count": 182,
      "outputs": []
    },
    {
      "cell_type": "code",
      "source": [
        "max_age_athlete.show()"
      ],
      "metadata": {
        "colab": {
          "base_uri": "https://localhost:8080/"
        },
        "id": "WYnZ6onwRLrw",
        "outputId": "af7a1c74-21f0-4f23-e2e2-e9ac99c13acc"
      },
      "execution_count": 183,
      "outputs": [
        {
          "output_type": "stream",
          "name": "stdout",
          "text": [
            "+---------+---+-------+\n",
            "|     name|age|country|\n",
            "+---------+---+-------+\n",
            "|IanMillar| 61| Canada|\n",
            "+---------+---+-------+\n",
            "\n"
          ]
        }
      ]
    },
    {
      "cell_type": "markdown",
      "source": [
        "Ian Millar is the oldest athlete in the olympics database \n",
        "and he is from Canada "
      ],
      "metadata": {
        "id": "nqPt36bWS0Yb"
      }
    }
  ],
  "metadata": {
    "colab": {
      "name": "Pyspark Capstone .ipynb",
      "provenance": [],
      "collapsed_sections": []
    },
    "kernelspec": {
      "display_name": "Python 3",
      "name": "python3"
    },
    "language_info": {
      "name": "python"
    }
  },
  "nbformat": 4,
  "nbformat_minor": 0
}